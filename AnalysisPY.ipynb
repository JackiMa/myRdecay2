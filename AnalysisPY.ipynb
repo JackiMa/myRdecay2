{
 "cells": [
  {
   "cell_type": "code",
   "execution_count": 4,
   "metadata": {},
   "outputs": [
    {
     "ename": "ImportError",
     "evalue": "Failed to import libcppyy3_9. Please check that ROOT has been built for Python 3.9",
     "output_type": "error",
     "traceback": [
      "\u001b[0;31m---------------------------------------------------------------------------\u001b[0m",
      "\u001b[0;31mModuleNotFoundError\u001b[0m                       Traceback (most recent call last)",
      "File \u001b[0;32m~/Application/root/lib/cppyy/__init__.py:60\u001b[0m, in \u001b[0;36m<module>\u001b[0;34m\u001b[0m\n\u001b[1;32m     <a href='file:///home/wsl2/Application/root/lib/cppyy/__init__.py?line=58'>59</a>\u001b[0m \u001b[39mtry\u001b[39;00m:\n\u001b[0;32m---> <a href='file:///home/wsl2/Application/root/lib/cppyy/__init__.py?line=59'>60</a>\u001b[0m     importlib\u001b[39m.\u001b[39;49mimport_module(libcppyy_mod_name)\n\u001b[1;32m     <a href='file:///home/wsl2/Application/root/lib/cppyy/__init__.py?line=60'>61</a>\u001b[0m \u001b[39mexcept\u001b[39;00m \u001b[39mImportError\u001b[39;00m:\n",
      "File \u001b[0;32m~/Application/miniconda3/lib/python3.9/importlib/__init__.py:127\u001b[0m, in \u001b[0;36mimport_module\u001b[0;34m(name, package)\u001b[0m\n\u001b[1;32m    <a href='file:///home/wsl2/Application/miniconda3/lib/python3.9/importlib/__init__.py?line=125'>126</a>\u001b[0m         level \u001b[39m+\u001b[39m\u001b[39m=\u001b[39m \u001b[39m1\u001b[39m\n\u001b[0;32m--> <a href='file:///home/wsl2/Application/miniconda3/lib/python3.9/importlib/__init__.py?line=126'>127</a>\u001b[0m \u001b[39mreturn\u001b[39;00m _bootstrap\u001b[39m.\u001b[39;49m_gcd_import(name[level:], package, level)\n",
      "File \u001b[0;32m<frozen importlib._bootstrap>:1030\u001b[0m, in \u001b[0;36m_gcd_import\u001b[0;34m(name, package, level)\u001b[0m\n",
      "File \u001b[0;32m<frozen importlib._bootstrap>:1007\u001b[0m, in \u001b[0;36m_find_and_load\u001b[0;34m(name, import_)\u001b[0m\n",
      "File \u001b[0;32m<frozen importlib._bootstrap>:984\u001b[0m, in \u001b[0;36m_find_and_load_unlocked\u001b[0;34m(name, import_)\u001b[0m\n",
      "\u001b[0;31mModuleNotFoundError\u001b[0m: No module named 'libcppyy3_9'",
      "\nDuring handling of the above exception, another exception occurred:\n",
      "\u001b[0;31mImportError\u001b[0m                               Traceback (most recent call last)",
      "\u001b[1;32m/home/wsl2/myRdecay2/AnalysisPY.ipynb Cell 1'\u001b[0m in \u001b[0;36m<cell line: 6>\u001b[0;34m()\u001b[0m\n\u001b[1;32m      <a href='vscode-notebook-cell://wsl%2Bwsl2_ubuntu2004/home/wsl2/myRdecay2/AnalysisPY.ipynb#ch0000000vscode-remote?line=1'>2</a>\u001b[0m \u001b[39mimport\u001b[39;00m \u001b[39mos\u001b[39;00m\u001b[39m,\u001b[39m\u001b[39msys\u001b[39;00m\n\u001b[1;32m      <a href='vscode-notebook-cell://wsl%2Bwsl2_ubuntu2004/home/wsl2/myRdecay2/AnalysisPY.ipynb#ch0000000vscode-remote?line=3'>4</a>\u001b[0m \u001b[39m# ROOT\u001b[39;00m\n\u001b[1;32m      <a href='vscode-notebook-cell://wsl%2Bwsl2_ubuntu2004/home/wsl2/myRdecay2/AnalysisPY.ipynb#ch0000000vscode-remote?line=4'>5</a>\u001b[0m \u001b[39m# sys.path.append(os.environ['ROOT_PATH'] + \"/lib\")\u001b[39;00m\n\u001b[0;32m----> <a href='vscode-notebook-cell://wsl%2Bwsl2_ubuntu2004/home/wsl2/myRdecay2/AnalysisPY.ipynb#ch0000000vscode-remote?line=5'>6</a>\u001b[0m \u001b[39mimport\u001b[39;00m \u001b[39mROOT\u001b[39;00m\n\u001b[1;32m      <a href='vscode-notebook-cell://wsl%2Bwsl2_ubuntu2004/home/wsl2/myRdecay2/AnalysisPY.ipynb#ch0000000vscode-remote?line=6'>7</a>\u001b[0m \u001b[39mfrom\u001b[39;00m \u001b[39mROOT\u001b[39;00m \u001b[39mimport\u001b[39;00m TCanvas, gPad\n\u001b[1;32m      <a href='vscode-notebook-cell://wsl%2Bwsl2_ubuntu2004/home/wsl2/myRdecay2/AnalysisPY.ipynb#ch0000000vscode-remote?line=8'>9</a>\u001b[0m \u001b[39mimport\u001b[39;00m \u001b[39mnumpy\u001b[39;00m \u001b[39mas\u001b[39;00m \u001b[39mnp\u001b[39;00m\n",
      "File \u001b[0;32m~/Application/root/lib/ROOT/__init__.py:22\u001b[0m, in \u001b[0;36m<module>\u001b[0;34m\u001b[0m\n\u001b[1;32m     <a href='file:///home/wsl2/Application/root/lib/ROOT/__init__.py?line=18'>19</a>\u001b[0m \u001b[39m# Prevent cppyy from filtering ROOT libraries\u001b[39;00m\n\u001b[1;32m     <a href='file:///home/wsl2/Application/root/lib/ROOT/__init__.py?line=19'>20</a>\u001b[0m environ[\u001b[39m'\u001b[39m\u001b[39mCPPYY_NO_ROOT_FILTER\u001b[39m\u001b[39m'\u001b[39m] \u001b[39m=\u001b[39m \u001b[39m'\u001b[39m\u001b[39m1\u001b[39m\u001b[39m'\u001b[39m\n\u001b[0;32m---> <a href='file:///home/wsl2/Application/root/lib/ROOT/__init__.py?line=21'>22</a>\u001b[0m \u001b[39mimport\u001b[39;00m \u001b[39mcppyy\u001b[39;00m\n\u001b[1;32m     <a href='file:///home/wsl2/Application/root/lib/ROOT/__init__.py?line=22'>23</a>\u001b[0m \u001b[39mif\u001b[39;00m \u001b[39mnot\u001b[39;00m \u001b[39m'\u001b[39m\u001b[39mROOTSYS\u001b[39m\u001b[39m'\u001b[39m \u001b[39min\u001b[39;00m environ:\n\u001b[1;32m     <a href='file:///home/wsl2/Application/root/lib/ROOT/__init__.py?line=23'>24</a>\u001b[0m     \u001b[39m# Revert setting made by cppyy\u001b[39;00m\n\u001b[1;32m     <a href='file:///home/wsl2/Application/root/lib/ROOT/__init__.py?line=24'>25</a>\u001b[0m     cppyy\u001b[39m.\u001b[39mgbl\u001b[39m.\u001b[39mgROOT\u001b[39m.\u001b[39mSetBatch(\u001b[39mFalse\u001b[39;00m)\n",
      "File \u001b[0;32m~/Application/root/lib/cppyy/__init__.py:62\u001b[0m, in \u001b[0;36m<module>\u001b[0;34m\u001b[0m\n\u001b[1;32m     <a href='file:///home/wsl2/Application/root/lib/cppyy/__init__.py?line=59'>60</a>\u001b[0m     importlib\u001b[39m.\u001b[39mimport_module(libcppyy_mod_name)\n\u001b[1;32m     <a href='file:///home/wsl2/Application/root/lib/cppyy/__init__.py?line=60'>61</a>\u001b[0m \u001b[39mexcept\u001b[39;00m \u001b[39mImportError\u001b[39;00m:\n\u001b[0;32m---> <a href='file:///home/wsl2/Application/root/lib/cppyy/__init__.py?line=61'>62</a>\u001b[0m     \u001b[39mraise\u001b[39;00m \u001b[39mImportError\u001b[39;00m(\n\u001b[1;32m     <a href='file:///home/wsl2/Application/root/lib/cppyy/__init__.py?line=62'>63</a>\u001b[0m             \u001b[39m'\u001b[39m\u001b[39mFailed to import \u001b[39m\u001b[39m{}\u001b[39;00m\u001b[39m. Please check that ROOT has been built for Python \u001b[39m\u001b[39m{}\u001b[39;00m\u001b[39m.\u001b[39m\u001b[39m{}\u001b[39;00m\u001b[39m'\u001b[39m\u001b[39m.\u001b[39mformat(\n\u001b[1;32m     <a href='file:///home/wsl2/Application/root/lib/cppyy/__init__.py?line=63'>64</a>\u001b[0m                 libcppyy_mod_name, major, minor))\n\u001b[1;32m     <a href='file:///home/wsl2/Application/root/lib/cppyy/__init__.py?line=65'>66</a>\u001b[0m \u001b[39m# ensure 'import libcppyy' will find the versioned module\u001b[39;00m\n\u001b[1;32m     <a href='file:///home/wsl2/Application/root/lib/cppyy/__init__.py?line=66'>67</a>\u001b[0m sys\u001b[39m.\u001b[39mmodules[\u001b[39m'\u001b[39m\u001b[39mlibcppyy\u001b[39m\u001b[39m'\u001b[39m] \u001b[39m=\u001b[39m sys\u001b[39m.\u001b[39mmodules[libcppyy_mod_name]\n",
      "\u001b[0;31mImportError\u001b[0m: Failed to import libcppyy3_9. Please check that ROOT has been built for Python 3.9"
     ]
    }
   ],
   "source": [
    "# system\n",
    "import os,sys\n",
    "\n",
    "# ROOT\n",
    "# sys.path.append(os.environ['ROOT_PATH'] + \"/lib\")\n",
    "import ROOT\n",
    "from ROOT import TCanvas, gPad\n",
    "\n",
    "import numpy as np\n",
    "import matplotlib.pyplot as plt\n",
    "plt.style.use(['notebook'])\n",
    "import tqdm"
   ]
  },
  {
   "cell_type": "code",
   "execution_count": 6,
   "metadata": {},
   "outputs": [
    {
     "data": {
      "text/plain": [
       "'/home/wsl2'"
      ]
     },
     "execution_count": 6,
     "metadata": {},
     "output_type": "execute_result"
    }
   ],
   "source": [
    "os.environ['HOME']"
   ]
  },
  {
   "cell_type": "code",
   "execution_count": null,
   "metadata": {},
   "outputs": [],
   "source": []
  }
 ],
 "metadata": {
  "interpreter": {
   "hash": "081e1ac4e778f551e0052c0262f9004582b47de2818b9619b7e0914a289d29af"
  },
  "kernelspec": {
   "display_name": "Python 3.9.7 ('base')",
   "language": "python",
   "name": "python3"
  },
  "language_info": {
   "codemirror_mode": {
    "name": "ipython",
    "version": 3
   },
   "file_extension": ".py",
   "mimetype": "text/x-python",
   "name": "python",
   "nbconvert_exporter": "python",
   "pygments_lexer": "ipython3",
   "version": "3.9.7"
  },
  "orig_nbformat": 4
 },
 "nbformat": 4,
 "nbformat_minor": 2
}
